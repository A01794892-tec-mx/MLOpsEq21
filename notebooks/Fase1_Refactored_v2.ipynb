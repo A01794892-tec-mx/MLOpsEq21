{
 "cells": [
  {
   "cell_type": "markdown",
   "metadata": {},
   "source": [
    "# Modelo de regresión logística para predecir incendios forestales en Argelia"
   ]
  },
  {
   "cell_type": "code",
   "execution_count": 36,
   "metadata": {
    "id": "cX3bgl05lkKU"
   },
   "outputs": [
    {
     "name": "stdout",
     "output_type": "stream",
     "text": [
      "The autoreload extension is already loaded. To reload it, use:\n",
      "  %reload_ext autoreload\n"
     ]
    }
   ],
   "source": [
    "#Importacion de librerias necesarias\n",
    "import pandas as pd\n",
    "from sklearn.preprocessing import LabelEncoder\n",
    "import seaborn as sns\n",
    "import matplotlib.pyplot as plt\n",
    "from sklearn.preprocessing import MinMaxScaler\n",
    "from imblearn.pipeline import make_pipeline\n",
    "from sklearn.pipeline import Pipeline\n",
    "from sklearn.preprocessing import FunctionTransformer, MinMaxScaler, StandardScaler, OneHotEncoder\n",
    "from sklearn.compose import ColumnTransformer\n",
    "from sklearn.decomposition import PCA\n",
    "import numpy as np\n",
    "from sklearn.model_selection import train_test_split, GridSearchCV, cross_val_score\n",
    "from sklearn.linear_model import LogisticRegression\n",
    "from sklearn import metrics\n",
    "from sklearn.impute import SimpleImputer\n",
    "import pickle\n",
    "\n",
    "\n",
    "%load_ext autoreload\n",
    "%autoreload 2\n",
    "\n",
    "import os\n",
    "import sys"
   ]
  },
  {
   "cell_type": "markdown",
   "metadata": {},
   "source": [
    "# Creating the classes"
   ]
  },
  {
   "cell_type": "markdown",
   "metadata": {},
   "source": [
    "### Data Explorer"
   ]
  },
  {
   "cell_type": "code",
   "execution_count": 53,
   "metadata": {},
   "outputs": [],
   "source": [
    "class DataExplorer:\n",
    "\n",
    "    @staticmethod\n",
    "    def explore_data(data):\n",
    "        pass\n",
    "    \n",
    "    @staticmethod\n",
    "    def plot_histograms(data):\n",
    "        pass\n",
    "\n",
    "    @staticmethod\n",
    "    def plot_correlation_matrix(data):\n",
    "        pass\n",
    "\n",
    "\n",
    "    "
   ]
  },
  {
   "cell_type": "markdown",
   "metadata": {},
   "source": [
    "### Model"
   ]
  },
  {
   "cell_type": "code",
   "execution_count": 46,
   "metadata": {},
   "outputs": [],
   "source": [
    "class ForestFireModel:\n",
    "\n",
    "\n",
    "    def __init__(self, path_file):\n",
    "        \n",
    "        self.path_file = path_file\n",
    "        self.X_train = None\n",
    "        self.y_train = None\n",
    "        self.X_test = None\n",
    "        self.y_test = None\n",
    "        \n",
    "        self.pipeline = None\n",
    "        self.best_model = None\n",
    "        self.target_encoder = None\n",
    "\n",
    "    \n",
    "    def load_data(self):\n",
    "        data = pd.read_csv(self.path_file ,sep=',', header='infer')\n",
    "        return data\n",
    "    \n",
    "\n",
    "    def data_cleanup(self, output_file):\n",
    "        data = self.load_data()\n",
    "        data.rename(columns={' RH':'RH', ' Ws': 'Ws', 'Classes  ':'Classes', 'Rain ':'Rain'}, inplace=True)\n",
    "        data['Classes'] = data['Classes'].str.strip()\n",
    "        data_limpia = data.dropna()\n",
    "        #Realizamos la transformacion de variables en el dataframe a su correcto formato\n",
    "        columnas_categoricas = ['Classes', 'Region']\n",
    "        columnas_enteras = ['day', 'month', 'year']\n",
    "        columnas_continuas = ['Temperature', 'RH', 'Ws', 'Rain', 'FFMC', 'DMC', 'DC', 'ISI', 'BUI', 'FWI']\n",
    "        data_transformada = data_limpia.copy()\n",
    "        data_transformada[columnas_categoricas] = data_limpia[columnas_categoricas].astype('category')\n",
    "        data_transformada[columnas_enteras] = data_limpia[columnas_enteras].astype('int64')\n",
    "        data_transformada[columnas_continuas] = data_limpia[columnas_continuas].astype('float64')\n",
    "        data_transformada.to_csv(output_file, index=False)\n",
    "\n",
    "\n",
    "    def preprocess_data(self, output_file):\n",
    "        data_transformada = pd.read_csv(output_file)\n",
    "        columnas_continuas = ['Temperature', 'RH', 'Ws', 'Rain', 'FFMC', 'DMC', 'DC', 'ISI', 'BUI', 'FWI']\n",
    "        y = data_transformada['Classes']\n",
    "        data_transformada.drop(columns=['Classes'], inplace=True)\n",
    "        X = data_transformada.select_dtypes(include=['float64', 'int64', 'category','object'])\n",
    "        #Eliminamos las columnas que no añaden valor\n",
    "        X = X.drop(columns=['day', 'month', 'year'])\n",
    "        #Dividimos los datos\n",
    "        self.X_train, self.X_test, self.y_train, self.y_test = train_test_split(X, y, test_size=0.2, random_state=42)\n",
    "        #para las variables continuas vamos a aplicar Normalizacion usando MinMaxScaler\n",
    "        numericas_pipeline = Pipeline( steps=[\n",
    "            ('minmax', MinMaxScaler()),\n",
    "            ('scaler', StandardScaler()),\n",
    "            ('PCA', PCA(n_components=0.95))\n",
    "        ] )\n",
    "        #para las variables cate vamos a aplicar OneHot\n",
    "        catOHE_pipeline = Pipeline( steps=[\n",
    "            ('OneHotEncoder', OneHotEncoder())\n",
    "        ] )\n",
    "\n",
    "        columnas_categoricas = ['Region']\n",
    "        ct = ColumnTransformer(transformers=[\n",
    "                ('numericas_continuas', numericas_pipeline, columnas_continuas),\n",
    "                ('categoricas', catOHE_pipeline, columnas_categoricas)\n",
    "                ])\n",
    "        \n",
    "        self.X_train = pd.DataFrame(ct.fit_transform(self.X_train), columns = ct.get_feature_names_out())\n",
    "        self.X_test  = pd.DataFrame(ct.transform(self.X_test), columns = ct.get_feature_names_out())\n",
    "\n",
    "\n",
    "\n",
    "    def train_model(self):\n",
    "        \"\"\"\n",
    "        Train the model.\n",
    "\n",
    "        Args:\n",
    "            \n",
    "        \"\"\"\n",
    "        modeloRL = LogisticRegression(penalty='l2',\n",
    "                                    C=100,\n",
    "                                    solver='liblinear',\n",
    "                                    max_iter=1000,\n",
    "                                    random_state=55)\n",
    "\n",
    "        modeloRL.fit(self.X_train,np.ravel(self.y_train))\n",
    "\n",
    "        self.best_model = modeloRL\n",
    "\n",
    "        with open('../models/modelLR.pkl', 'wb') as f:\n",
    "            pickle.dump(modeloRL, f)\n",
    "\n",
    "\n",
    "    def predict(self, new_data):\n",
    "        \"\"\"\n",
    "        Prediction of new data, returns the data in its categorical labels.\n",
    "\n",
    "        Args:\n",
    "            new_data: dataframe with new features to predict.\n",
    "        \"\"\"\n",
    "        predictions = self.best_model.predict(new_data)\n",
    "        #predictions = self.target_encoder.inverse_transform(predictions)\n",
    "        return predictions\n",
    "\n",
    "\n",
    "    def evaluate_model(self):\n",
    "        \"\"\"\n",
    "        Model evaluation on test set.\n",
    "        \n",
    "        \"\"\"\n",
    "        y_pred = self.best_model.predict(self.X_test)\n",
    "        cm = metrics.confusion_matrix(self.y_test, y_pred)\n",
    "        print(\"Confusion Matrix:\")\n",
    "        sns.heatmap(cm, annot=True, fmt='d', cmap='Blues')\n",
    "        plt.show()\n",
    "        \n",
    "        report = metrics.classification_report(self.y_test, y_pred)\n",
    "        print(\"Classification Report:\")\n",
    "        print(report)\n",
    "\n",
    "        print('accuracy-test', metrics.accuracy_score(self.y_test, y_pred))\n",
    "\n",
    "\n",
    "\n",
    "    def cross_validate_model(self):\n",
    "        scores = cross_val_score(self.pipeline, self.X_train, self.y_train, cv=5)\n",
    "        print(\"Average Accuracy with CV:\", np.mean(scores))\n",
    "        return self\n",
    "\n",
    "\n",
    "\n"
   ]
  },
  {
   "cell_type": "markdown",
   "metadata": {},
   "source": [
    "### Executing the code"
   ]
  },
  {
   "cell_type": "code",
   "execution_count": 47,
   "metadata": {},
   "outputs": [],
   "source": [
    "file_path = '../data/Algerian_forest_fires_dataset_UPDATE_RegionAdd.csv'\n",
    "m_lr = ForestFireModel(file_path)"
   ]
  },
  {
   "cell_type": "code",
   "execution_count": 48,
   "metadata": {},
   "outputs": [],
   "source": [
    "output_file = '../data/processed/Algerian_forest_fires_dataset_clean.csv'\n",
    "m_lr.data_cleanup(output_file)\n",
    "m_lr.preprocess_data(output_file)"
   ]
  },
  {
   "cell_type": "code",
   "execution_count": 49,
   "metadata": {},
   "outputs": [],
   "source": [
    "m_lr.train_model()"
   ]
  },
  {
   "cell_type": "code",
   "execution_count": 50,
   "metadata": {},
   "outputs": [
    {
     "data": {
      "text/html": [
       "<style>#sk-container-id-2 {color: black;}#sk-container-id-2 pre{padding: 0;}#sk-container-id-2 div.sk-toggleable {background-color: white;}#sk-container-id-2 label.sk-toggleable__label {cursor: pointer;display: block;width: 100%;margin-bottom: 0;padding: 0.3em;box-sizing: border-box;text-align: center;}#sk-container-id-2 label.sk-toggleable__label-arrow:before {content: \"▸\";float: left;margin-right: 0.25em;color: #696969;}#sk-container-id-2 label.sk-toggleable__label-arrow:hover:before {color: black;}#sk-container-id-2 div.sk-estimator:hover label.sk-toggleable__label-arrow:before {color: black;}#sk-container-id-2 div.sk-toggleable__content {max-height: 0;max-width: 0;overflow: hidden;text-align: left;background-color: #f0f8ff;}#sk-container-id-2 div.sk-toggleable__content pre {margin: 0.2em;color: black;border-radius: 0.25em;background-color: #f0f8ff;}#sk-container-id-2 input.sk-toggleable__control:checked~div.sk-toggleable__content {max-height: 200px;max-width: 100%;overflow: auto;}#sk-container-id-2 input.sk-toggleable__control:checked~label.sk-toggleable__label-arrow:before {content: \"▾\";}#sk-container-id-2 div.sk-estimator input.sk-toggleable__control:checked~label.sk-toggleable__label {background-color: #d4ebff;}#sk-container-id-2 div.sk-label input.sk-toggleable__control:checked~label.sk-toggleable__label {background-color: #d4ebff;}#sk-container-id-2 input.sk-hidden--visually {border: 0;clip: rect(1px 1px 1px 1px);clip: rect(1px, 1px, 1px, 1px);height: 1px;margin: -1px;overflow: hidden;padding: 0;position: absolute;width: 1px;}#sk-container-id-2 div.sk-estimator {font-family: monospace;background-color: #f0f8ff;border: 1px dotted black;border-radius: 0.25em;box-sizing: border-box;margin-bottom: 0.5em;}#sk-container-id-2 div.sk-estimator:hover {background-color: #d4ebff;}#sk-container-id-2 div.sk-parallel-item::after {content: \"\";width: 100%;border-bottom: 1px solid gray;flex-grow: 1;}#sk-container-id-2 div.sk-label:hover label.sk-toggleable__label {background-color: #d4ebff;}#sk-container-id-2 div.sk-serial::before {content: \"\";position: absolute;border-left: 1px solid gray;box-sizing: border-box;top: 0;bottom: 0;left: 50%;z-index: 0;}#sk-container-id-2 div.sk-serial {display: flex;flex-direction: column;align-items: center;background-color: white;padding-right: 0.2em;padding-left: 0.2em;position: relative;}#sk-container-id-2 div.sk-item {position: relative;z-index: 1;}#sk-container-id-2 div.sk-parallel {display: flex;align-items: stretch;justify-content: center;background-color: white;position: relative;}#sk-container-id-2 div.sk-item::before, #sk-container-id-2 div.sk-parallel-item::before {content: \"\";position: absolute;border-left: 1px solid gray;box-sizing: border-box;top: 0;bottom: 0;left: 50%;z-index: -1;}#sk-container-id-2 div.sk-parallel-item {display: flex;flex-direction: column;z-index: 1;position: relative;background-color: white;}#sk-container-id-2 div.sk-parallel-item:first-child::after {align-self: flex-end;width: 50%;}#sk-container-id-2 div.sk-parallel-item:last-child::after {align-self: flex-start;width: 50%;}#sk-container-id-2 div.sk-parallel-item:only-child::after {width: 0;}#sk-container-id-2 div.sk-dashed-wrapped {border: 1px dashed gray;margin: 0 0.4em 0.5em 0.4em;box-sizing: border-box;padding-bottom: 0.4em;background-color: white;}#sk-container-id-2 div.sk-label label {font-family: monospace;font-weight: bold;display: inline-block;line-height: 1.2em;}#sk-container-id-2 div.sk-label-container {text-align: center;}#sk-container-id-2 div.sk-container {/* jupyter's `normalize.less` sets `[hidden] { display: none; }` but bootstrap.min.css set `[hidden] { display: none !important; }` so we also need the `!important` here to be able to override the default hidden behavior on the sphinx rendered scikit-learn.org. See: https://github.com/scikit-learn/scikit-learn/issues/21755 */display: inline-block !important;position: relative;}#sk-container-id-2 div.sk-text-repr-fallback {display: none;}</style><div id=\"sk-container-id-2\" class=\"sk-top-container\"><div class=\"sk-text-repr-fallback\"><pre>LogisticRegression(C=100, max_iter=1000, random_state=55, solver=&#x27;liblinear&#x27;)</pre><b>In a Jupyter environment, please rerun this cell to show the HTML representation or trust the notebook. <br />On GitHub, the HTML representation is unable to render, please try loading this page with nbviewer.org.</b></div><div class=\"sk-container\" hidden><div class=\"sk-item\"><div class=\"sk-estimator sk-toggleable\"><input class=\"sk-toggleable__control sk-hidden--visually\" id=\"sk-estimator-id-2\" type=\"checkbox\" checked><label for=\"sk-estimator-id-2\" class=\"sk-toggleable__label sk-toggleable__label-arrow\">LogisticRegression</label><div class=\"sk-toggleable__content\"><pre>LogisticRegression(C=100, max_iter=1000, random_state=55, solver=&#x27;liblinear&#x27;)</pre></div></div></div></div></div>"
      ],
      "text/plain": [
       "LogisticRegression(C=100, max_iter=1000, random_state=55, solver='liblinear')"
      ]
     },
     "execution_count": 50,
     "metadata": {},
     "output_type": "execute_result"
    }
   ],
   "source": [
    "m_lr.best_model"
   ]
  },
  {
   "cell_type": "code",
   "execution_count": 51,
   "metadata": {},
   "outputs": [
    {
     "data": {
      "text/plain": [
       "array(['fire', 'fire', 'not fire', 'not fire', 'fire', 'not fire',\n",
       "       'not fire', 'fire', 'not fire', 'not fire', 'not fire', 'fire',\n",
       "       'fire', 'fire', 'fire', 'not fire', 'not fire', 'not fire', 'fire',\n",
       "       'fire', 'not fire', 'not fire', 'fire', 'not fire', 'fire', 'fire',\n",
       "       'fire', 'fire', 'not fire', 'fire', 'fire', 'not fire', 'fire',\n",
       "       'fire', 'not fire', 'not fire', 'not fire', 'fire', 'not fire',\n",
       "       'not fire', 'fire', 'not fire', 'fire', 'not fire', 'fire', 'fire',\n",
       "       'fire', 'not fire', 'fire'], dtype=object)"
      ]
     },
     "execution_count": 51,
     "metadata": {},
     "output_type": "execute_result"
    }
   ],
   "source": [
    "m_lr.predict(m_lr.X_test)"
   ]
  },
  {
   "cell_type": "code",
   "execution_count": 52,
   "metadata": {},
   "outputs": [
    {
     "name": "stdout",
     "output_type": "stream",
     "text": [
      "Confusion Matrix:\n"
     ]
    },
    {
     "data": {
      "image/png": "[encoded data removed]",
      "text/plain": [
       "<Figure size 640x480 with 2 Axes>"
      ]
     },
     "metadata": {},
     "output_type": "display_data"
    },
    {
     "name": "stdout",
     "output_type": "stream",
     "text": [
      "Classification Report:\n",
      "              precision    recall  f1-score   support\n",
      "\n",
      "        fire       0.96      0.93      0.94        27\n",
      "    not fire       0.91      0.95      0.93        22\n",
      "\n",
      "    accuracy                           0.94        49\n",
      "   macro avg       0.94      0.94      0.94        49\n",
      "weighted avg       0.94      0.94      0.94        49\n",
      "\n",
      "accuracy-test 0.9387755102040817\n"
     ]
    }
   ],
   "source": [
    "m_lr.evaluate_model()"
   ]
  },
  {
   "cell_type": "code",
   "execution_count": null,
   "metadata": {},
   "outputs": [],
   "source": []
  }
 ],
 "metadata": {
  "colab": {
   "provenance": []
  },
  "kernelspec": {
   "display_name": "MLOpsEq21_venv",
   "language": "python",
   "name": "python3"
  },
  "language_info": {
   "codemirror_mode": {
    "name": "ipython",
    "version": 3
   },
   "file_extension": ".py",
   "mimetype": "text/x-python",
   "name": "python",
   "nbconvert_exporter": "python",
   "pygments_lexer": "ipython3",
   "version": "3.11.7"
  }
 },
 "nbformat": 4,
 "nbformat_minor": 4
}
