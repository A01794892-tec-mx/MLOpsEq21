{
 "cells": [
  {
   "cell_type": "markdown",
   "metadata": {
    "id": "vzCgzkz_lY7_"
   },
   "source": [
    "# **Manipulación y preparación de datos**"
   ]
  },
  {
   "cell_type": "code",
   "execution_count": 1,
   "metadata": {
    "id": "cX3bgl05lkKU"
   },
   "outputs": [],
   "source": [
    "#Importacion de librerias necesarias\n",
    "import pandas as pd\n",
    "from sklearn.preprocessing import LabelEncoder\n",
    "import seaborn as sns\n",
    "import matplotlib.pyplot as plt\n",
    "from sklearn.preprocessing import MinMaxScaler\n",
    "from imblearn.pipeline import make_pipeline\n",
    "from sklearn.pipeline import Pipeline\n",
    "from sklearn.preprocessing import FunctionTransformer, MinMaxScaler, StandardScaler, OneHotEncoder\n",
    "from sklearn.compose import ColumnTransformer\n",
    "from sklearn.decomposition import PCA\n",
    "import numpy as np\n",
    "from sklearn.model_selection import train_test_split, GridSearchCV, cross_val_score\n",
    "from sklearn.linear_model import LogisticRegression\n",
    "from sklearn import metrics\n",
    "from sklearn.impute import SimpleImputer\n",
    "\n",
    "\n",
    "\n",
    "%load_ext autoreload\n",
    "%autoreload 2\n",
    "\n",
    "import os\n",
    "import sys"
   ]
  },
  {
   "cell_type": "markdown",
   "metadata": {},
   "source": [
    "# Creating the classes"
   ]
  },
  {
   "cell_type": "markdown",
   "metadata": {},
   "source": [
    "### Data Explorer"
   ]
  },
  {
   "cell_type": "code",
   "execution_count": null,
   "metadata": {},
   "outputs": [],
   "source": [
    "class DataExplorer:\n",
    "\n",
    "    def __init__( self, data_path, target_column, test_size = 0.2 ):\n",
    "        pass\n",
    "\n",
    "\n",
    "    "
   ]
  },
  {
   "cell_type": "markdown",
   "metadata": {},
   "source": [
    "### Model"
   ]
  },
  {
   "cell_type": "code",
   "execution_count": null,
   "metadata": {},
   "outputs": [],
   "source": [
    "class ForestFireModel:\n",
    "\n",
    "\n",
    "    def __init__(self, path_file):\n",
    "        \n",
    "        self.path_file = path_file\n",
    "        self.path_file = None\n",
    "        self.X_train = None\n",
    "        self.y_train = None\n",
    "        self.X_test = None\n",
    "        self.y_test = None\n",
    "        \n",
    "        self.pipeline = None\n",
    "        self.best_model = None\n",
    "        self.target_encoder = None\n",
    "\n",
    "    \n",
    "    def load_data(self):\n",
    "        data = pd.read_csv(self.path_file, sep=',', header='infer')\n",
    "        return data\n",
    "    \n",
    "\n",
    "    def data_cleanup(self, output_file):\n",
    "        data = self.load_data()\n",
    "        data.rename(columns={' RH':'RH', ' Ws': 'Ws', 'Classes  ':'Classes', 'Rain ':'Rain'}, inplace=True)\n",
    "        data['Classes'] = data['Classes'].str.strip()\n",
    "        data_limpia = data.dropna()\n",
    "        #Realizamos la transformacion de variables en el dataframe a su correcto formato\n",
    "        columnas_categoricas = ['Classes', 'Region']\n",
    "        columnas_enteras = ['day', 'month', 'year']\n",
    "        columnas_continuas = ['Temperature', 'RH', 'Ws', 'Rain', 'FFMC', 'DMC', 'DC', 'ISI', 'BUI', 'FWI']\n",
    "        data_transformada = data_limpia.copy()\n",
    "        data_transformada[columnas_categoricas] = data_limpia[columnas_categoricas].astype('category')\n",
    "        data_transformada[columnas_enteras] = data_limpia[columnas_enteras].astype('int64')\n",
    "        data_transformada[columnas_continuas] = data_limpia[columnas_continuas].astype('float64')\n",
    "        data_transformada.to_csv(output_file, index=False)\n",
    "\n",
    "\n",
    "    def preprocess_data(self):\n",
    "\n",
    "        data_transformada = self.load_data()\n",
    "        columnas_continuas = ['Temperature', 'RH', 'Ws', 'Rain', 'FFMC', 'DMC', 'DC', 'ISI', 'BUI', 'FWI']\n",
    "        y = data_transformada['Classes']\n",
    "        data_transformada.drop(columns=['Classes'], inplace=True)\n",
    "        X = data_transformada.select_dtypes(include=['float64', 'int64', 'category'])\n",
    "        #Eliminamos las columnas que no añaden valor\n",
    "        X = X.drop(columns=['day', 'month', 'year'])\n",
    "        #Dividimos los datos\n",
    "        self.X_train, self.X_test, self.y_train, self.y_test = train_test_split(X, y, test_size=0.2, random_state=42)\n",
    "        #para las variables continuas vamos a aplicar Normalizacion usando MinMaxScaler\n",
    "        numericas_pipeline = Pipeline( steps=[\n",
    "            ('minmax', MinMaxScaler()),\n",
    "            ('scaler', StandardScaler()),\n",
    "            ('PCA', PCA(n_components=0.95))\n",
    "        ] )\n",
    "        #para las variables cate vamos a aplicar OneHot\n",
    "        catOHE_pipeline = Pipeline( steps=[\n",
    "            ('OneHotEncoder', OneHotEncoder())\n",
    "        ] )\n",
    "\n",
    "        columnas_categoricas = ['Region']\n",
    "        ct = ColumnTransformer(transformers=[\n",
    "                ('numericas_continuas', numericas_pipeline, columnas_continuas),\n",
    "                ('categoricas', catOHE_pipeline, columnas_categoricas)\n",
    "                ])\n",
    "\n",
    "        self.X_train = ct.fit_transform(self.X_train)\n",
    "        self.X_test  = ct.transform(self.X_test)\n",
    "\n",
    "\n",
    "    def train_model(self, param_grid):\n",
    "        \"\"\"\n",
    "        Train the model using GridSearchCV for hyperparameter tuning.\n",
    "\n",
    "        Args:\n",
    "            param_grid: Dictionary with parameters names as keys and lists of parameter settings to try as values.\n",
    "        \"\"\"\n",
    "        grid_search = GridSearchCV(self.pipeline, param_grid, cv=5, n_jobs=-1)\n",
    "        grid_search.fit(self.X_train, self.y_train)\n",
    "        self.best_model = grid_search.best_estimator_\n",
    "\n",
    "\n",
    "    def predict(self, new_data):\n",
    "        \"\"\"\n",
    "        Prediction of new data, returns the data in its categorical labels.\n",
    "\n",
    "        Args:\n",
    "            new_data: dataframe with new features to predict.\n",
    "        \"\"\"\n",
    "        predictions = self.best_model.predict(new_data)\n",
    "        predictions = self.target_encoder.inverse_transform(predictions)\n",
    "        return predictions\n",
    "\n",
    "\n",
    "    def evaluate_model(self):\n",
    "        \"\"\"\n",
    "        Model evaluation on test set.\n",
    "        \n",
    "        \"\"\"\n",
    "        y_pred = self.best_model.predict(self.X_test)\n",
    "        cm = metrics.confusion_matrix(self.y_test, y_pred)\n",
    "        print(\"Confusion Matrix:\")\n",
    "        sns.heatmap(cm, annot=True, fmt='d', cmap='Blues')\n",
    "        plt.show()\n",
    "        \n",
    "        report = metrics.classification_report(self.y_test, y_pred)\n",
    "        print(\"Classification Report:\")\n",
    "        print(report)\n",
    "\n",
    "        print('accuracy-test', metrics.accuracy_score(self.y_test, y_pred))\n",
    "\n",
    "\n",
    "\n",
    "    def cross_validate_model(self):\n",
    "        scores = cross_val_score(self.pipeline, self.X_train, self.y_train, cv=5)\n",
    "        print(\"Average Accuracy with CV:\", np.mean(scores))\n",
    "        return self\n",
    "\n",
    "\n",
    "\n"
   ]
  },
  {
   "cell_type": "markdown",
   "metadata": {},
   "source": [
    "### Executing the code"
   ]
  },
  {
   "cell_type": "markdown",
   "metadata": {},
   "source": [
    "m_lr = ForestFireModel()\n",
    "\n"
   ]
  }
 ],
 "metadata": {
  "colab": {
   "provenance": []
  },
  "kernelspec": {
   "display_name": "MLOpsEq21_venv",
   "language": "python",
   "name": "python3"
  },
  "language_info": {
   "codemirror_mode": {
    "name": "ipython",
    "version": 3
   },
   "file_extension": ".py",
   "mimetype": "text/x-python",
   "name": "python",
   "nbconvert_exporter": "python",
   "pygments_lexer": "ipython3",
   "version": "3.11.7"
  }
 },
 "nbformat": 4,
 "nbformat_minor": 4
}
