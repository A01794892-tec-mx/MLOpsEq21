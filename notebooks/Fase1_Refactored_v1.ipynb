{
 "cells": [
  {
   "cell_type": "markdown",
   "metadata": {
    "id": "vzCgzkz_lY7_"
   },
   "source": [
    "# **Setup**"
   ]
  },
  {
   "cell_type": "code",
   "execution_count": 1,
   "metadata": {
    "id": "cX3bgl05lkKU"
   },
   "outputs": [],
   "source": [
    "#Importacion de librerias necesarias\n",
    "import pandas as pd\n",
    "from sklearn.preprocessing import LabelEncoder\n",
    "import seaborn as sns\n",
    "import matplotlib.pyplot as plt\n",
    "from sklearn.preprocessing import MinMaxScaler\n",
    "from imblearn.pipeline import make_pipeline\n",
    "from sklearn.pipeline import Pipeline\n",
    "from sklearn.preprocessing import FunctionTransformer, MinMaxScaler, StandardScaler, OneHotEncoder\n",
    "from sklearn.compose import ColumnTransformer\n",
    "from sklearn.decomposition import PCA\n",
    "import numpy as np\n",
    "from sklearn.model_selection import train_test_split, GridSearchCV, cross_val_score\n",
    "from sklearn.linear_model import LogisticRegression\n",
    "from sklearn import metrics\n",
    "import pickle\n",
    "\n",
    "\n"
   ]
  },
  {
   "cell_type": "code",
   "execution_count": 2,
   "metadata": {
    "colab": {
     "base_uri": "https://localhost:8080/"
    },
    "id": "-vtGJ0_KlG2j",
    "outputId": "a8972630-a6e8-41f0-9ef1-7cbf555f920e"
   },
   "outputs": [],
   "source": [
    "# from google.colab import drive\n",
    "# drive.mount('/content/drive')\n",
    "%load_ext autoreload\n",
    "%autoreload 2\n",
    "\n",
    "import os\n",
    "import sys"
   ]
  },
  {
   "cell_type": "markdown",
   "metadata": {
    "id": "dUIPs2HXl_wE"
   },
   "source": [
    "# Loading and exploring the data"
   ]
  },
  {
   "cell_type": "code",
   "execution_count": 5,
   "metadata": {
    "colab": {
     "base_uri": "https://localhost:8080/",
     "height": 224
    },
    "id": "y-FEnbKVlnUk",
    "outputId": "1ad3fa4f-b526-4f2f-8142-809337055cf8"
   },
   "outputs": [],
   "source": [
    "# data = pd.read_csv(\"/content/drive/MyDrive/Colab Notebooks/MNA/MLOps/data/Algerian_forest_fires_dataset_UPDATE_RegionAdd.csv\",sep=',', header='infer')\n",
    "\n",
    "def load_data(filepath):\n",
    "    data = pd.read_csv(filepath)\n",
    "    return data"
   ]
  },
  {
   "cell_type": "markdown",
   "metadata": {},
   "source": [
    "# Visualizing the data"
   ]
  },
  {
   "cell_type": "code",
   "execution_count": null,
   "metadata": {},
   "outputs": [],
   "source": []
  },
  {
   "cell_type": "markdown",
   "metadata": {},
   "source": [
    "# Preprocessing and feature engineering"
   ]
  },
  {
   "cell_type": "code",
   "execution_count": 1,
   "metadata": {},
   "outputs": [],
   "source": [
    "def data_cleanup(input_file, output_file):\n",
    "\n",
    "    data = pd.read_csv(input_file ,sep=',', header='infer')\n",
    "\n",
    "    print(data)\n",
    "\n",
    "    data.rename(columns={' RH':'RH', ' Ws': 'Ws', 'Classes  ':'Classes', 'Rain ':'Rain'}, inplace=True)\n",
    "\n",
    "    #data.info()\n",
    "\n",
    "    #print(f\"Classes: {data['Classes'].unique()} \\n\")\n",
    "\n",
    "    #print(f\"Region {data['Region'].unique()} \\n\")\n",
    "\n",
    "    #Detectamos que los valores de Classes contienen espacios extras por lo cual procedemos a eliminarlos\n",
    "    #El valor nulo se va a limpiar en el siguiente paso\n",
    "    data['Classes'] = data['Classes'].str.strip()\n",
    "\n",
    "    #Imprimimos de nuevo los valores unicos:\n",
    "    #print(f\"Classes: {data['Classes'].unique()} \\n\")\n",
    "\n",
    "    valores_nulos = data.isnull().sum()\n",
    "    data_limpia = data.dropna()\n",
    "\n",
    "    #Realizamos la transformacion de variables en el dataframe a su correcto formato\n",
    "    columnas_categoricas = ['Classes', 'Region']\n",
    "    columnas_enteras = ['day', 'month', 'year']\n",
    "    columnas_continuas = ['Temperature', 'RH', 'Ws', 'Rain', 'FFMC', 'DMC', 'DC', 'ISI', 'BUI', 'FWI']\n",
    "\n",
    "    data_transformada = data_limpia.copy()\n",
    "    data_transformada[columnas_categoricas] = data_limpia[columnas_categoricas].astype('category')\n",
    "    data_transformada[columnas_enteras] = data_limpia[columnas_enteras].astype('int64')\n",
    "    data_transformada[columnas_continuas] = data_limpia[columnas_continuas].astype('float64')\n",
    "\n",
    "    data_transformada.to_csv(output_file, index=False)\n",
    "\n"
   ]
  },
  {
   "cell_type": "markdown",
   "metadata": {},
   "source": [
    "**Aplicar técnicas de preprocesamiento como normalización, codificación de variables categóricas y reducción de dimensionalidad.**"
   ]
  },
  {
   "cell_type": "code",
   "execution_count": 9,
   "metadata": {},
   "outputs": [],
   "source": [
    "def data_pre_proc(data_transformada):\n",
    "\n",
    "    columnas_continuas = ['Temperature', 'RH', 'Ws', 'Rain', 'FFMC', 'DMC', 'DC', 'ISI', 'BUI', 'FWI']\n",
    "\n",
    "    y = data_transformada['Classes']\n",
    "    data_transformada.drop(columns=['Classes'], inplace=True)\n",
    "    X = data_transformada.select_dtypes(include=['float64', 'int64', 'category'])\n",
    "\n",
    "    #Eliminamos las columnas que no añaden valor\n",
    "    X = X.drop(columns=['day', 'month', 'year'])\n",
    "\n",
    "    #Dividimos los datos\n",
    "    X_train_base, X_test_base, y_train, y_test = train_test_split(X, y, test_size=0.2, random_state=42)\n",
    "\n",
    "    #para las variables continuas vamos a aplicar Normalizacion usando MinMaxScaler\n",
    "    numericas_pipeline = Pipeline( steps=[\n",
    "        ('minmax', MinMaxScaler()),\n",
    "        ('scaler', StandardScaler()),\n",
    "        ('PCA', PCA(n_components=0.95))\n",
    "    ] )\n",
    "\n",
    "\n",
    "    #para las variables cate vamos a aplicar OneHot\n",
    "    catOHE_pipeline = Pipeline( steps=[\n",
    "        ('OneHotEncoder', OneHotEncoder())\n",
    "    ] )\n",
    "\n",
    "    columnas_categoricas = ['Region']\n",
    "    ct = ColumnTransformer(transformers=[\n",
    "            ('numericas_continuas', numericas_pipeline, columnas_continuas),\n",
    "            ('categoricas', catOHE_pipeline, columnas_categoricas)\n",
    "            ])\n",
    "\n",
    "    X_train = ct.fit_transform(X_train_base)\n",
    "    X_test  = ct.transform(X_test_base)\n",
    "\n",
    "    pd.DataFrame(X_train).to_csv('X_train.csv', index=False)\n",
    "    pd.DataFrame(X_test).to_csv('X_test.csv', index=False)\n",
    "    pd.DataFrame(y_train).to_csv('y_train.csv', index=False)\n",
    "    pd.DataFrame(y_test).to_csv('y_test', index=False)\n",
    "\n"
   ]
  },
  {
   "cell_type": "markdown",
   "metadata": {
    "id": "AMedN-7qCXT9"
   },
   "source": [
    "# Training the model"
   ]
  },
  {
   "cell_type": "code",
   "execution_count": 32,
   "metadata": {
    "id": "rFBPiWCmCeHY"
   },
   "outputs": [],
   "source": [
    "def train_model():\n",
    "    X_train=pd.read_csv('X_train.csv')\n",
    "    y_train=pd.read_csv('y_train.csv')\n",
    "\n",
    "    modeloRL = LogisticRegression(penalty='l2',\n",
    "                                  C=100,\n",
    "                                  solver='liblinear',\n",
    "                                  max_iter=1000,\n",
    "                                  random_state=55)\n",
    "\n",
    "    modeloRL.fit(X_train,np.ravel(y_train))\n",
    "\n",
    "    with open('models/modelLR.pkl', 'wb') as f:\n",
    "        pickle.dump(modeloRL, f)\n",
    "    return modeloRL"
   ]
  },
  {
   "cell_type": "markdown",
   "metadata": {},
   "source": [
    "# Evaluating the model"
   ]
  },
  {
   "cell_type": "code",
   "execution_count": null,
   "metadata": {},
   "outputs": [],
   "source": [
    "def evaluate_model(model, X_test, y_test):\n",
    "    y_pred = model.predict(X_test)\n",
    "    cm = metrics.confusion_matrix(y_test, y_pred)\n",
    "    print(\"Confusion Matrix:\")\n",
    "    sns.heatmap(cm, annot=True, fmt='d', cmap='Blues')\n",
    "    plt.show()\n",
    "    \n",
    "    report = metrics.classification_report(y_test, y_pred)\n",
    "    print(\"Classification Report:\")\n",
    "    print(report)\n",
    "\n",
    "    #print(\">>Exactitud (Accuracy) de los conjuntos de Entrenamiento y Validación con Logistic Regresion:\")\n",
    "    #y_pred_trainRL = model.predict(X_train)\n",
    "    y_pred_testRL = model.predict(X_test)\n",
    "    #print('accuracy-train', metrics.accuracy_score(y_train, y_pred_trainRL))\n",
    "    print('accuracy-test', metrics.accuracy_score(y_test, y_pred_testRL))\n"
   ]
  },
  {
   "cell_type": "markdown",
   "metadata": {},
   "source": [
    "# Cross Validation"
   ]
  },
  {
   "cell_type": "code",
   "execution_count": 10,
   "metadata": {},
   "outputs": [],
   "source": [
    "def cross_validate_model(model, X, y, num_cross_validation = 5):\n",
    "    scores = cross_val_score(model, X, y, cv=num_cross_validation)\n",
    "    print(\"Average Accuracy with CV:\", np.mean(scores))"
   ]
  },
  {
   "cell_type": "code",
   "execution_count": null,
   "metadata": {},
   "outputs": [],
   "source": [
    "# Main function for running the pipeline\n",
    "def main(filepath, output_file):\n",
    "\n",
    "    data_cleanup(filepath, output_file)\n",
    "    data_transformada = load_data(output_file)\n",
    "    data_pre_proc(data_transformada)\n",
    "    model_LR = train_model()"
   ]
  },
  {
   "cell_type": "code",
   "execution_count": null,
   "metadata": {},
   "outputs": [],
   "source": [
    "file_path = ''\n",
    "main(filepath=file_path)"
   ]
  }
 ],
 "metadata": {
  "colab": {
   "provenance": []
  },
  "kernelspec": {
   "display_name": "MLOpsEq21_venv",
   "language": "python",
   "name": "python3"
  },
  "language_info": {
   "codemirror_mode": {
    "name": "ipython",
    "version": 3
   },
   "file_extension": ".py",
   "mimetype": "text/x-python",
   "name": "python",
   "nbconvert_exporter": "python",
   "pygments_lexer": "ipython3",
   "version": "3.11.7"
  }
 },
 "nbformat": 4,
 "nbformat_minor": 4
}
