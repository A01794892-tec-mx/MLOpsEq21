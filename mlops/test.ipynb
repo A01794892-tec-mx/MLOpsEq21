{
 "cells": [
  {
   "cell_type": "code",
   "execution_count": 2,
   "metadata": {},
   "outputs": [
    {
     "name": "stderr",
     "output_type": "stream",
     "text": [
      "2024/10/01 18:33:09 INFO mlflow.tracking.fluent: Experiment with name '/user/restoreTest/' does not exist. Creating a new experiment.\n",
      "c:\\MNA\\MLOpsEq21\\MLOpsEq21_venv\\Lib\\site-packages\\_distutils_hack\\__init__.py:18: UserWarning: Distutils was imported before Setuptools, but importing Setuptools also replaces the `distutils` module in `sys.modules`. This may lead to undesirable behaviors or errors. To avoid these issues, avoid using distutils directly, ensure that setuptools is installed in the traditional way (e.g. not an editable install), and/or make sure that setuptools is always imported before distutils.\n",
      "  warnings.warn(\n",
      "c:\\MNA\\MLOpsEq21\\MLOpsEq21_venv\\Lib\\site-packages\\_distutils_hack\\__init__.py:33: UserWarning: Setuptools is replacing distutils.\n",
      "  warnings.warn(\"Setuptools is replacing distutils.\")\n",
      "2024/10/01 18:33:14 WARNING mlflow.models.model: Input example should be provided to infer model signature if the model signature is not provided when logging the model.\n",
      "2024/10/01 18:33:14 INFO mlflow.tracking._tracking_service.client: 🏃 View run flawless-shrew-485 at: http://localhost:5000/#/experiments/2/runs/b553fd8dd06841ac92d9d7458d3ac6aa.\n",
      "2024/10/01 18:33:14 INFO mlflow.tracking._tracking_service.client: 🧪 View experiment at: http://localhost:5000/#/experiments/2.\n"
     ]
    },
    {
     "name": "stdout",
     "output_type": "stream",
     "text": [
      "Run ID: b553fd8dd06841ac92d9d7458d3ac6aa\n"
     ]
    }
   ],
   "source": [
    "import mlflow\n",
    "\n",
    "from sklearn.model_selection import train_test_split\n",
    "from sklearn.datasets import load_diabetes\n",
    "from sklearn.ensemble import RandomForestRegressor\n",
    "\n",
    "mlflow.set_tracking_uri(\"http://localhost:5000\")\n",
    "mlflow.set_experiment(f\"/user/restoreTest/\")\n",
    "\n",
    "\n",
    "with mlflow.start_run() as run:\n",
    "    n_estimators=100\n",
    "    max_depth=6\n",
    "    max_features=3\n",
    "\n",
    "    mlflow.log_param(\"n_estimators\",n_estimators)\n",
    "    mlflow.log_param(\"max_depth\",max_depth)\n",
    "    mlflow.log_param(\"max_features\",max_features)\n",
    "\n",
    "    # Load the diabetes dataset.\n",
    "    db = load_diabetes()\n",
    "    X_train, X_test, y_train, y_test = train_test_split(db.data, db.target)\n",
    "\n",
    "    # Create and train models.\n",
    "    rf = RandomForestRegressor(n_estimators=n_estimators, max_depth=max_depth, max_features=max_features)\n",
    "    rf.fit(X_train, y_train)\n",
    "\n",
    "    # Use the model to make predictions on the test dataset.\n",
    "    predictions = rf.predict(X_test)\n",
    "\n",
    "    mlflow.sklearn.log_model(rf, \"model\")\n",
    "\n",
    "    mlflow.log_metric(\"Accuracy\", rf.score(X_test,y_test))\n",
    "\n",
    "    print(\"Run ID: {}\".format(run.info.run_id))"
   ]
  }
 ],
 "metadata": {
  "kernelspec": {
   "display_name": "Python 3",
   "language": "python",
   "name": "python3"
  },
  "language_info": {
   "codemirror_mode": {
    "name": "ipython",
    "version": 3
   },
   "file_extension": ".py",
   "mimetype": "text/x-python",
   "name": "python",
   "nbconvert_exporter": "python",
   "pygments_lexer": "ipython3",
   "version": "3.11.9"
  }
 },
 "nbformat": 4,
 "nbformat_minor": 2
}
